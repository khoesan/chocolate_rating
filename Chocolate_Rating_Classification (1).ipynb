{
  "cells": [
    {
      "cell_type": "markdown",
      "metadata": {
        "id": "mD0qXNs_yqa-"
      },
      "source": [
        "# Project: Chocolate Bar Rating Classification - Khoirotun Hisan\n",
        "\n",
        "Klasifikasi rating cokelat bar berdasarkan atribut produk menggunakan machine learning.\n"
      ],
      "id": "mD0qXNs_yqa-"
    },
    {
      "cell_type": "markdown",
      "metadata": {
        "id": "XzBZe6neyqbB"
      },
      "source": [
        "## 1. Domain Proyek\n",
        "Cokelat adalah salah satu makanan paling populer di dunia, dan kualitasnya sangat bervariasi tergantung pada berbagai faktor seperti persentase kakao, asal biji kakao, dan teknik pembuatan. Dalam proyek ini, kita akan mencoba mengklasifikasikan rating dari sebuah cokelat bar berdasarkan fitur-fitur tersebut."
      ],
      "id": "XzBZe6neyqbB"
    },
    {
      "cell_type": "markdown",
      "metadata": {
        "id": "K_duCaIByqbC"
      },
      "source": [
        "## 2. Business Understanding\n",
        "**Problem Statement:**\n",
        "Dapatkah kita memprediksi kategori rating cokelat berdasarkan fitur-fitur seperti kakao, negara asal, dan perusahaan pembuat?\n",
        "\n",
        "**Goal:**\n",
        "Mengklasifikasikan rating cokelat ke dalam kategori seperti `low`, `medium`, dan `high`.\n",
        "\n",
        "**Solution Statement:**\n",
        "- Menggunakan Random Forest Classifier sebagai baseline model.\n",
        "- Melakukan hyperparameter tuning untuk meningkatkan performa model.\n",
        "- Menggunakan evaluasi berdasarkan classification report dan confusion matrix untuk menilai performa model."
      ],
      "id": "K_duCaIByqbC"
    },
    {
      "cell_type": "markdown",
      "metadata": {
        "id": "XBIQ6ZUNyqbC"
      },
      "source": [
        "## 3. Data Understanding\n",
        "Dataset diambil dari Kaggle: [Chocolate Bar Ratings](https://www.kaggle.com/datasets/rtatman/chocolate-bar-ratings)\n",
        "\n",
        "- Jumlah data: ~1700 baris\n",
        "- Target: Kolom `Rating`\n",
        "- Fitur penting: `Cocoa Percent`, `Company Location`, `Country of Bean Origin`\n",
        "- Akan dikategorikan menjadi `low`, `medium`, dan `high` untuk klasifikasi.\n",
        "\n",
        "Selanjutnya akan dilakukan analisis eksploratif."
      ],
      "id": "XBIQ6ZUNyqbC"
    },
    {
      "cell_type": "code",
      "execution_count": 41,
      "metadata": {
        "id": "vFmw3_kUyqbC"
      },
      "outputs": [],
      "source": [
        "import pandas as pd\n",
        "import numpy as np\n",
        "import matplotlib.pyplot as plt\n",
        "import seaborn as sns\n",
        "\n",
        "from sklearn.model_selection import train_test_split\n",
        "from sklearn.preprocessing import LabelEncoder\n",
        "from sklearn.ensemble import RandomForestClassifier\n",
        "from sklearn.model_selection import GridSearchCV\n",
        "from IPython.display import display\n",
        "from sklearn.metrics import classification_report, confusion_matrix, ConfusionMatrixDisplay"
      ],
      "id": "vFmw3_kUyqbC"
    },
    {
      "cell_type": "markdown",
      "metadata": {
        "id": "Zl3iCj-DyqbD"
      },
      "source": [
        "Selanjutnya, kita load dataset dan mulai eksplorasi datanya."
      ],
      "id": "Zl3iCj-DyqbD"
    },
    {
      "cell_type": "code",
      "source": [
        "df = pd.read_csv('flavors_of_cacao.csv')\n",
        "print(df.head())\n",
        "print(df.info())\n",
        "print(df.isnull().sum())\n",
        "\n",
        "plt.figure(figsize=(8, 4))\n",
        "sns.histplot(df['Rating'], bins=20, kde=True)\n",
        "plt.title('Distribusi Rating Cokelat')\n",
        "plt.xlabel('Rating')\n",
        "plt.ylabel('Jumlah Produk')\n",
        "plt.show()"
      ],
      "metadata": {
        "colab": {
          "base_uri": "https://localhost:8080/",
          "height": 1000
        },
        "id": "enf0HYN3m6DB",
        "outputId": "7ee2c1aa-4431-4811-9b58-12095cf22ca8"
      },
      "id": "enf0HYN3m6DB",
      "execution_count": 32,
      "outputs": [
        {
          "output_type": "stream",
          "name": "stdout",
          "text": [
            "  Company \\n(Maker-if known) Specific Bean Origin\\nor Bar Name   REF  \\\n",
            "0                   A. Morin                       Agua Grande  1876   \n",
            "1                   A. Morin                             Kpime  1676   \n",
            "2                   A. Morin                            Atsane  1676   \n",
            "3                   A. Morin                             Akata  1680   \n",
            "4                   A. Morin                            Quilla  1704   \n",
            "\n",
            "   Review\\nDate Cocoa\\nPercent Company\\nLocation  Rating Bean\\nType  \\\n",
            "0          2016            63%            France    3.75              \n",
            "1          2015            70%            France    2.75              \n",
            "2          2015            70%            France    3.00              \n",
            "3          2015            70%            France    3.50              \n",
            "4          2015            70%            France    3.50              \n",
            "\n",
            "  Broad Bean\\nOrigin  \n",
            "0           Sao Tome  \n",
            "1               Togo  \n",
            "2               Togo  \n",
            "3               Togo  \n",
            "4               Peru  \n",
            "<class 'pandas.core.frame.DataFrame'>\n",
            "RangeIndex: 1795 entries, 0 to 1794\n",
            "Data columns (total 9 columns):\n",
            " #   Column                            Non-Null Count  Dtype  \n",
            "---  ------                            --------------  -----  \n",
            " 0   Company \n",
            "(Maker-if known)         1795 non-null   object \n",
            " 1   Specific Bean Origin\n",
            "or Bar Name  1795 non-null   object \n",
            " 2   REF                               1795 non-null   int64  \n",
            " 3   Review\n",
            "Date                       1795 non-null   int64  \n",
            " 4   Cocoa\n",
            "Percent                     1795 non-null   object \n",
            " 5   Company\n",
            "Location                  1795 non-null   object \n",
            " 6   Rating                            1795 non-null   float64\n",
            " 7   Bean\n",
            "Type                         1794 non-null   object \n",
            " 8   Broad Bean\n",
            "Origin                 1794 non-null   object \n",
            "dtypes: float64(1), int64(2), object(6)\n",
            "memory usage: 126.3+ KB\n",
            "None\n",
            "Company \\n(Maker-if known)           0\n",
            "Specific Bean Origin\\nor Bar Name    0\n",
            "REF                                  0\n",
            "Review\\nDate                         0\n",
            "Cocoa\\nPercent                       0\n",
            "Company\\nLocation                    0\n",
            "Rating                               0\n",
            "Bean\\nType                           1\n",
            "Broad Bean\\nOrigin                   1\n",
            "dtype: int64\n"
          ]
        },
        {
          "output_type": "display_data",
          "data": {
            "text/plain": [
              "<Figure size 800x400 with 1 Axes>"
            ],
            "image/png": "[encoded data removed]"
          },
          "metadata": {}
        }
      ]
    },
    {
      "cell_type": "markdown",
      "source": [
        "## 4. Data Preparation\n",
        "### Teknik yang Dilakukan:\n",
        "- Menghapus kolom tidak relevan: `Company (Maker-if known)` dan `Specific Bean Origin (or Name)`\n",
        "- Membersihkan dan menstandarkan nama kolom\n",
        "- Mengubah `Cocoa Percent` dari string ke numerik\n",
        "- Membuat label klasifikasi baru dari `Rating` menggunakan binning\n",
        "- Melakukan label encoding pada fitur kategorikal: `Company Location` dan `Broad Bean Origin`\n",
        "- Split data menjadi data latih dan data uji (80:20)"
      ],
      "metadata": {
        "id": "1Y61QnS_j5C1"
      },
      "id": "1Y61QnS_j5C1"
    },
    {
      "cell_type": "code",
      "source": [
        "# 1. Hapus kolom tidak relevan\n",
        "df.columns = df.columns.str.strip()\n",
        "df.drop(columns=['Company\\xa0\\n(Maker-if known)', 'Specific Bean Origin\\nor Bar Name'], inplace=True, errors='ignore')\n",
        "print(df.columns)"
      ],
      "metadata": {
        "colab": {
          "base_uri": "https://localhost:8080/"
        },
        "id": "TH8JYhtLkpze",
        "outputId": "aa7c916d-629a-4fc1-9f26-2d25d7c3b0dd"
      },
      "id": "TH8JYhtLkpze",
      "execution_count": 33,
      "outputs": [
        {
          "output_type": "stream",
          "name": "stdout",
          "text": [
            "Index(['REF', 'Review\\nDate', 'Cocoa\\nPercent', 'Company\\nLocation', 'Rating',\n",
            "       'Bean\\nType', 'Broad Bean\\nOrigin'],\n",
            "      dtype='object')\n"
          ]
        }
      ]
    },
    {
      "cell_type": "code",
      "source": [
        "# 2. Standarkan nama kolom\n",
        "df.columns = df.columns.str.strip().str.lower().str.replace(' ', '_').str.replace('\\n', '_')\n",
        "\n",
        "# 3. Ubah cocoa_percent menjadi numerik\n",
        "if 'cocoa_percent' in df.columns:\n",
        "    print(f\"Data type of 'cocoa_percent' before conversion: {df['cocoa_percent'].dtype}\")\n",
        "    if df['cocoa_percent'].dtype == 'object':\n",
        "        df['cocoa_percent'] = df['cocoa_percent'].str.replace('%', '', regex=False).astype(float)\n",
        "    else:\n",
        "        try:\n",
        "            df['cocoa_percent'] = df['cocoa_percent'].astype(float)\n",
        "        except ValueError as e:\n",
        "            print(f\"Could not convert 'cocoa_percent' to float. Error: {e}\")\n",
        "else:\n",
        "    print(\"'cocoa_percent' column not found.\")\n",
        "\n",
        "# 4. Buat label klasifikasi dari rating\n",
        "def label_rating(rating):\n",
        "    if rating < 3.0:\n",
        "        return 'low'\n",
        "    elif rating < 3.5:\n",
        "        return 'medium'\n",
        "    else:\n",
        "        return 'high'\n",
        "\n",
        "if 'rating' in df.columns:\n",
        "    df['rating_label'] = df['rating'].apply(label_rating)\n",
        "else:\n",
        "    print(\"'rating' column not found for creating 'rating_label'.\")\n",
        "\n",
        "# 5. Label encoding pada fitur kategorikal\n",
        "if 'company_location' in df.columns:\n",
        "    label_enc_location = LabelEncoder()\n",
        "    df['company_location'] = label_enc_location.fit_transform(df['company_location'])\n",
        "else:\n",
        "     print(\"'company_location' column not found for label encoding.\")\n",
        "\n",
        "if 'broad_bean_origin' in df.columns:\n",
        "    label_enc_origin = LabelEncoder()\n",
        "    df['broad_bean_origin'] = label_enc_origin.fit_transform(df['broad_bean_origin'])\n",
        "else:\n",
        "    print(\"'broad_bean_origin' column not found for label encoding.\")\n",
        "\n",
        "print(\"\\nData types before splitting:\")\n",
        "print(df.dtypes)\n",
        "\n",
        "numeric_cols = ['ref', 'review_date', 'cocoa_percent', 'company_location', 'broad_bean_origin']\n",
        "\n",
        "for col in numeric_cols:\n",
        "    if col in df.columns:\n",
        "        df[col] = pd.to_numeric(df[col], errors='coerce')\n",
        "        if df[col].isnull().any():\n",
        "            print(f\"\\nFound non-numeric values (now NaN) in '{col}':\")\n",
        "            display(df[df[col].isnull()])\n",
        "    else:\n",
        "        print(f\"Column '{col}' not found in DataFrame.\")\n",
        "\n",
        "    label_enc_3 = LabelEncoder()\n",
        "    df['bean_type'] = df['bean_type'].fillna('Unknown')\n",
        "    df['bean_type'] = label_enc_3.fit_transform(df['bean_type'])"
      ],
      "metadata": {
        "colab": {
          "base_uri": "https://localhost:8080/"
        },
        "id": "UbiB86RzpvWQ",
        "outputId": "82438eb3-a1de-497f-9f04-8978ae3b36c7"
      },
      "id": "UbiB86RzpvWQ",
      "execution_count": 39,
      "outputs": [
        {
          "output_type": "stream",
          "name": "stdout",
          "text": [
            "Data type of 'cocoa_percent' before conversion: float64\n",
            "\n",
            "Data types before splitting:\n",
            "ref                    int64\n",
            "review_date            int64\n",
            "cocoa_percent        float64\n",
            "company_location       int64\n",
            "rating               float64\n",
            "bean_type              int64\n",
            "broad_bean_origin      int64\n",
            "rating_label          object\n",
            "dtype: object\n"
          ]
        }
      ]
    },
    {
      "cell_type": "markdown",
      "source": [
        "## 5. Modeling\n",
        "\n",
        "### Algoritma yang Digunakan:\n",
        "- Random Forest Classifier\n",
        "\n",
        "### Penjelasan Tahapan dan Parameter:\n",
        "- Model dilatih menggunakan `RandomForestClassifier` dari `scikit-learn` dengan parameter default.\n",
        "- Algoritma ini menggunakan banyak pohon keputusan (decision trees) dan menggabungkan hasilnya secara voting untuk klasifikasi.\n",
        "- Data dibagi ke dalam 80% pelatihan dan 20% pengujian."
      ],
      "metadata": {
        "id": "oAkcG9KosliK"
      },
      "id": "oAkcG9KosliK"
    },
    {
      "cell_type": "code",
      "source": [
        "# 6. Pisahkan fitur dan target\n",
        "features_to_drop = ['rating', 'rating_label']\n",
        "cols_present = [col for col in features_to_drop if col in df.columns]\n",
        "X = df.drop(columns=cols_present, errors='ignore')\n",
        "\n",
        "if 'rating_label' in df.columns:\n",
        "    y = df['rating_label']\n",
        "else:\n",
        "    print(\"'rating_label' column not found. Cannot proceed with splitting and modeling.\")\n",
        "\n",
        "# 7. Split data\n",
        "if 'y' in locals() and not y.empty:\n",
        "    X_train, X_test, y_train, y_test = train_test_split(\n",
        "        X, y, test_size=0.2, random_state=42, stratify=y\n",
        "    )\n",
        "\n",
        "    print(\"\\nShape of X_train:\", X_train.shape)\n",
        "    print(\"Data types of X_train:\\n\", X_train.dtypes)\n",
        "\n",
        "    if X_train.isnull().values.any():\n",
        "        print(\"\\nNaN values found in X_train. Please handle them before fitting the model.\")\n",
        "    else:\n",
        "        rf_clf = RandomForestClassifier(random_state=42)\n",
        "        rf_clf.fit(X_train, y_train)\n",
        "\n",
        "        # Hyperparameter tuning\n",
        "        param_grid = {\n",
        "            'n_estimators': [100, 200],\n",
        "            'max_depth': [None, 10, 20],\n",
        "            'min_samples_split': [2, 5],\n",
        "            'min_samples_leaf': [1, 2]\n",
        "        }\n",
        "\n",
        "        grid_search = GridSearchCV(\n",
        "            RandomForestClassifier(random_state=42),\n",
        "            param_grid,\n",
        "            cv=3,\n",
        "            scoring='accuracy',\n",
        "            n_jobs=-1\n",
        "        )\n",
        "\n",
        "        # Fit GridSearchCV\n",
        "        grid_search.fit(X_train, y_train)\n",
        "\n",
        "        # Model terbaik\n",
        "        best_model = grid_search.best_estimator_\n",
        "\n",
        "        print(\"\\nModel training completed successfully!\")\n",
        "else:\n",
        "    print(\"Could not proceed with splitting and modeling as 'y' is not defined or empty.\")"
      ],
      "metadata": {
        "colab": {
          "base_uri": "https://localhost:8080/"
        },
        "id": "pOK51VYEtJjU",
        "outputId": "e264dd98-4e00-452d-a297-55aca68b3c82"
      },
      "id": "pOK51VYEtJjU",
      "execution_count": 40,
      "outputs": [
        {
          "output_type": "stream",
          "name": "stdout",
          "text": [
            "\n",
            "Shape of X_train: (1436, 6)\n",
            "Data types of X_train:\n",
            " ref                    int64\n",
            "review_date            int64\n",
            "cocoa_percent        float64\n",
            "company_location       int64\n",
            "bean_type              int64\n",
            "broad_bean_origin      int64\n",
            "dtype: object\n",
            "\n",
            "Model training completed successfully!\n"
          ]
        }
      ]
    },
    {
      "cell_type": "markdown",
      "source": [
        "## 6. Evaluasi\n",
        "\n",
        "### Metrik Evaluasi yang Digunakan:\n",
        "- Confusion Matrix\n",
        "- Classification Report (Akurasi, Precision, Recall, F1-Score)\n",
        "\n",
        "### Penjelasan Hasil Evaluasi:\n",
        "- Hasil klasifikasi menunjukkan bagaimana model mampu memprediksi kelas low, medium, dan high dengan tingkat akurasi tertentu.\n",
        "- Dari confusion matrix dapat dilihat berapa banyak prediksi yang benar dan salah untuk tiap kelas."
      ],
      "metadata": {
        "id": "JDKXjKFjxods"
      },
      "id": "JDKXjKFjxods"
    },
    {
      "cell_type": "code",
      "source": [
        "y_pred = best_model.predict(X_test)\n",
        "\n",
        "print(\"Classification Report:\\n\")\n",
        "print(classification_report(y_test, y_pred))\n",
        "\n",
        "cm = confusion_matrix(y_test, y_pred, labels=['low', 'medium', 'high'])\n",
        "disp = ConfusionMatrixDisplay(confusion_matrix=cm, display_labels=['low', 'medium', 'high'])\n",
        "disp.plot(cmap='Blues')\n",
        "plt.title(\"Confusion Matrix\")\n",
        "plt.show()"
      ],
      "metadata": {
        "colab": {
          "base_uri": "https://localhost:8080/",
          "height": 680
        },
        "id": "hjr3bydgyMy-",
        "outputId": "c25547f0-754c-4e82-db09-410de62478f1"
      },
      "id": "hjr3bydgyMy-",
      "execution_count": 42,
      "outputs": [
        {
          "output_type": "stream",
          "name": "stdout",
          "text": [
            "Classification Report:\n",
            "\n",
            "              precision    recall  f1-score   support\n",
            "\n",
            "        high       0.49      0.56      0.53       140\n",
            "         low       0.45      0.28      0.34        90\n",
            "      medium       0.41      0.46      0.43       129\n",
            "\n",
            "    accuracy                           0.45       359\n",
            "   macro avg       0.45      0.43      0.43       359\n",
            "weighted avg       0.45      0.45      0.45       359\n",
            "\n"
          ]
        },
        {
          "output_type": "display_data",
          "data": {
            "text/plain": [
              "<Figure size 640x480 with 2 Axes>"
            ],
            "image/png": "[encoded data removed]"
          },
          "metadata": {}
        }
      ]
    }
  ],
  "metadata": {
    "kernelspec": {
      "display_name": "Python 3",
      "language": "python",
      "name": "python3"
    },
    "language_info": {
      "name": "python",
      "version": "3.10"
    },
    "colab": {
      "provenance": []
    }
  },
  "nbformat": 4,
  "nbformat_minor": 5
}